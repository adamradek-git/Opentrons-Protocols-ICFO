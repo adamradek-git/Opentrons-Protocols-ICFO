{
 "cells": [
  {
   "cell_type": "markdown",
   "metadata": {},
   "source": [
    "## Welcome to Pump GUI: Arquer Lab"
   ]
  },
  {
   "cell_type": "markdown",
   "metadata": {},
   "source": [
    "#### How to Use This GUI\n",
    "\n",
    "Simply call to open a display. The display consists of 4 inputs: \n",
    "\n",
    "__(1)__ Pump: This is the numbering of the pump. This needs to correspond to the arrow on the pump itself.\n",
    "\n",
    "__(2)__ Set Speed: this is in units of RPM. You can set it to whatever you wish.\n",
    "\n",
    "__(3)__ Run: Click this if you want to run. This will make the pump start\n",
    "\n",
    "__(4)__ Stop: Click this if you want the program to terminate. \n",
    "\n",
    "NOTE: Make sure that the device is plugged in via USB. The port is usually COM4. In the case where you are operating from a different computer, or you have multiple USB ports, you might need to go into the backend.py file, and change the PORT variable near the top.\n",
    "\n",
    "If you run into any other major technical problems, contact me! Adam Radek Martinez adam.radek.martinez@gmail.com ... the backend is a little weird."
   ]
  },
  {
   "cell_type": "code",
   "execution_count": 1,
   "metadata": {},
   "outputs": [],
   "source": [
    "from backend import *\n",
    "ser = serial.Serial( port= PORT, baudrate=9600, parity=serial.PARITY_EVEN, stopbits=serial.STOPBITS_ONE, bytesize=serial.EIGHTBITS)"
   ]
  },
  {
   "cell_type": "code",
   "execution_count": 2,
   "metadata": {
    "scrolled": true
   },
   "outputs": [
    {
     "data": {
      "application/vnd.jupyter.widget-view+json": {
       "model_id": "5975ed66092a410fbab7ab92f00ad428",
       "version_major": 2,
       "version_minor": 0
      },
      "text/plain": [
       "VBox(children=(Text(value='1', description='Pump:', placeholder='Type something'), FloatSlider(value=80.0, con…"
      ]
     },
     "metadata": {},
     "output_type": "display_data"
    }
   ],
   "source": [
    "# DISPLAY LINES --> YOU CAN COPY THIS INTO ANOTHER CELL IF YOU WISH\n",
    "x = button_run.on_click(on_button_clicked_run)\n",
    "button_stop.on_click(on_button_clicked_stop)\n",
    "buttons = widgets.HBox([button_run,button_stop])\n",
    "widgets.VBox([w_2,w_1, buttons, w_3, output])"
   ]
  },
  {
   "cell_type": "markdown",
   "metadata": {},
   "source": [
    "@COPYWRITE ADAM RADEK MARTINEZ"
   ]
  }
 ],
 "metadata": {
  "kernelspec": {
   "display_name": "Python 3",
   "language": "python",
   "name": "python3"
  },
  "language_info": {
   "codemirror_mode": {
    "name": "ipython",
    "version": 3
   },
   "file_extension": ".py",
   "mimetype": "text/x-python",
   "name": "python",
   "nbconvert_exporter": "python",
   "pygments_lexer": "ipython3",
   "version": "3.7.6"
  }
 },
 "nbformat": 4,
 "nbformat_minor": 4
}
